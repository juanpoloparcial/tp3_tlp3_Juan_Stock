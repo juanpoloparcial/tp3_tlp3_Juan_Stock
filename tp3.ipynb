{
 "cells": [
  {
   "cell_type": "markdown",
   "id": "498731c6",
   "metadata": {},
   "source": [
    "# Trabajo Practico n3 - Trabajando con Lists y Sets.\n",
    "## Criterios de evaluación.\n",
    "\n",
    "* Se deben utilizar nombres de variables descriptivos y claros (Utilizar la nomeclatura correspondiente para los nombres de variables).\n",
    "* Comentarios claros y concisos que expliquen el propósito de cada sección del código.\n",
    "* Utilizar mensajes de commit **descriptivos**. (Puedes utilizar la extension CONVENTIONAL COMMIT de VS-CODE). \n",
    "* Entrega en tiempo y forma.\n",
    "* Todo el código desarrollado debe ser subido a un repositorio en GitHub (el nombre del repositorio de seguir la siguiente estructura: tp3_tlp3_nombre_apellido).\n",
    "* Para resolver las actividades se debe insertar casillas de codigo entre cada actividad del cuaderno de Jupyter\n",
    "* El repositorio de GitHub debe incluir un archivo README.md con las instrucciones necesarias para la correcta ejecución del código.\n",
    "\n",
    "### ¡Importante!\n",
    "**El incumplimiento de los criterios de evaluación restará puntos en la nota final del práctico!**"
   ]
  },
  {
   "cell_type": "markdown",
   "id": "b361a7b6",
   "metadata": {},
   "source": [
    "### Actividad 1: \n",
    "Suma de todos los elementos de una lista, utilizando bucles repetitivos (for, while)."
   ]
  },
  {
   "cell_type": "code",
   "execution_count": 3,
   "id": "26009294",
   "metadata": {},
   "outputs": [
    {
     "name": "stdout",
     "output_type": "stream",
     "text": [
      "La suma de elemento de la lista es:  204\n"
     ]
    }
   ],
   "source": [
    "\n",
    "# todo:\n",
    "\n",
    "numbers = [14, 23, 34, 48, 85]\n",
    "\n",
    "suma_numbers = 0\n",
    "i = 0\n",
    "# i contara la cantidad de elementos que tenemos en la lista\n",
    "# mientras sea menor que la cantidad de elemntos que hay seguira sumando\n",
    "while i < len(numbers):\n",
    "    suma_numbers += numbers[i]\n",
    "    i += 1\n",
    "print (\"La suma de elemento de la lista es: \", suma_numbers)"
   ]
  },
  {
   "cell_type": "markdown",
   "id": "0c239195",
   "metadata": {},
   "source": [
    "### Actividad 2: \n",
    "Encontrar el número más grande en una lista, utilizando bucles repetitivos (for, while)."
   ]
  },
  {
   "cell_type": "code",
   "execution_count": null,
   "id": "3611d25a",
   "metadata": {},
   "outputs": [
    {
     "name": "stdout",
     "output_type": "stream",
     "text": [
      "La lista a compar es:  [91, 29, 60, 56, 73]\n",
      "El número más grande es:  91\n"
     ]
    }
   ],
   "source": [
    "\n",
    "# todo:\n",
    "\n",
    "from random import randint\n",
    "random_numbers =[randint(1, 100) for i in range(5)]\n",
    "#Visualizaremos la lista.\n",
    "print(\"La lista a compar es: \", random_numbers)\n",
    "#Tomaremos el primer elemento de la lista e iremos comparando, hasta \n",
    "# encontrar el mayor de la lista.\n",
    "numero_mayor = random_numbers[0]\n",
    "\n",
    "for comparar_numero in random_numbers:\n",
    "    if comparar_numero > numero_mayor:\n",
    "        numero_mayor = comparar_numero\n",
    "        \n",
    "print(\"El número más grande es: \", numero_mayor)"
   ]
  },
  {
   "cell_type": "markdown",
   "id": "70a24b97",
   "metadata": {},
   "source": [
    "### Actividad 3:\n",
    "Contar cuántas veces aparece un número específico. Utiliza estructuras repetitivas para la resolucion de este ejercicio. "
   ]
  },
  {
   "cell_type": "code",
   "execution_count": null,
   "id": "a9c8ebc7",
   "metadata": {},
   "outputs": [
    {
     "name": "stdout",
     "output_type": "stream",
     "text": [
      "La lista de numero es:  [184, 107, 134, 11, 2, 60, 162, 89, 99, 131, 58, 122, 177, 18, 31, 99, 135, 75, 54, 187]\n",
      "El numero que ingreso NO se encuentra en la lista.\n"
     ]
    }
   ],
   "source": [
    "\n",
    "# todo:\n",
    "# A lo que entiendo de la consigna pide un numero específico, es decir, \n",
    "# ingresar un numero y buscarlo cuantas veces esta en la lista. Es lo que yo entendi, \n",
    "# pido disculpas si malinterprete la consigna.\n",
    "\n",
    "lists = [randint(1, 200) for i in range(20)]\n",
    "#Mostramos la lista generada\n",
    "print(\"La lista de numero es: \", lists)\n",
    "\n",
    "#Pedimos al usuario que ingrese el numero que quiere buscar en la lista.\n",
    "buscar_num = int(input(\"Ingrese el número que desea buscar: \"))\n",
    "\n",
    "#Contaremos la cantidad de veces que aparece.\n",
    "contar_num = 0\n",
    "\n",
    "for numero in lists:\n",
    "    if numero == buscar_num:\n",
    "        contar_num += 1\n",
    "  \n",
    "if contar_num > 0:\n",
    "    print(\"El número, \",buscar_num, \"aparece, \",contar_num, \" veces en la lista.\")\n",
    "else:\n",
    "    print(\"El numero que ingreso NO se encuentra en la lista.\")\n"
   ]
  },
  {
   "cell_type": "markdown",
   "id": "b8dac397",
   "metadata": {},
   "source": [
    "### Actividad 4: \n",
    "Invertir una lista sin usar reverse() ni [::-1]"
   ]
  },
  {
   "cell_type": "code",
   "execution_count": 15,
   "id": "d04fd492",
   "metadata": {},
   "outputs": [
    {
     "name": "stdout",
     "output_type": "stream",
     "text": [
      "La lista original es:  [17, 30, 1, 46, 40, 8, 50, 50]\n",
      "La lista invertida es:  [50, 50, 8, 40, 46, 1, 30, 17]\n"
     ]
    }
   ],
   "source": [
    "\n",
    "# todo:\n",
    "\n",
    "lists_two = [randint(1, 50) for i in range(8)]\n",
    "# Mostramos la lista generada.\n",
    "print(\"La lista original es: \", lists_two)\n",
    "\n",
    "#Creamos una nueva lista, la cual sera invertida.\n",
    "lists_inversa = []\n",
    "\n",
    "invertida = len(lists_two) -1\n",
    "while invertida >= 0:\n",
    "    lists_inversa.append(lists_two[invertida])\n",
    "    invertida -= 1\n",
    "\n",
    "print(\"La lista invertida es: \", lists_inversa)"
   ]
  },
  {
   "cell_type": "markdown",
   "id": "8889d0f2",
   "metadata": {},
   "source": [
    "### Actividad 5:\n",
    "Sumar los elementos de dos listas posición por posición, utilizando solo bucles repetititivos (for,while)."
   ]
  },
  {
   "cell_type": "code",
   "execution_count": 21,
   "id": "bc0ec844",
   "metadata": {},
   "outputs": [
    {
     "name": "stdout",
     "output_type": "stream",
     "text": [
      " Lista 1:  [2, 4, 6, 7, 8] \n",
      " Lista 2:  [1, 3, 5, 9, 10]\n",
      " La suma de las listas es:  [3, 7, 11, 16, 18]\n"
     ]
    }
   ],
   "source": [
    "\n",
    "# todo:\n",
    "\n",
    "lista_one = [ 2,4,6,7,8 ]\n",
    "lista_two = [ 1,3,5,9,10 ]\n",
    "# Guardaremos la suma de las listas en una nueva lista.\n",
    "suma_listas = []\n",
    "\n",
    "# Dependiendo de la posicion de los elementos se sumaran entre si.\n",
    "for i in range (len(lista_one)):\n",
    "    suma = lista_one[i] + lista_two[i]\n",
    "    suma_listas.append(suma)\n",
    "\n",
    "# Mostramos las listas y su respectiva suma\n",
    "print(\" Lista 1: \", lista_one,'\\n Lista 2: ', lista_two)\n",
    "print(\" La suma de las listas es: \", suma_listas)\n"
   ]
  },
  {
   "cell_type": "markdown",
   "id": "8ce33e6b",
   "metadata": {},
   "source": [
    "### Actividad 6:\n",
    "\n",
    "Escribir un programa que almacene el abecedario en una lista, elimine de la lista las letras que ocupen posiciones múltiplos de 3, y muestre por pantalla la lista resultante."
   ]
  },
  {
   "cell_type": "code",
   "execution_count": 22,
   "id": "b07326e2",
   "metadata": {},
   "outputs": [
    {
     "name": "stdout",
     "output_type": "stream",
     "text": [
      "Abecedario : ['a', 'b', 'c', 'd', 'e', 'f', 'g', 'h', 'i', 'j', 'k', 'l', 'm', 'n', 'o', 'p', 'q', 'r', 's', 't', 'u', 'v', 'w', 'x', 'y', 'z']\n",
      "Nuevo Abc sin las letras que son multiplos de 3: \n",
      " ['a', 'b', 'd', 'e', 'g', 'h', 'j', 'k', 'm', 'n', 'p', 'q', 's', 't', 'v', 'w', 'y', 'z']\n"
     ]
    }
   ],
   "source": [
    "\n",
    "# todo:\n",
    "import string\n",
    "abc = list(string.ascii_lowercase)\n",
    "#Mostramos el abecedario Original\n",
    "print(\"Abecedario :\", abc)\n",
    "#Guardaremos el abecedario modificado en una nueva lista\n",
    "nuevo_abc = []\n",
    "\n",
    "for i in range (len(abc)):\n",
    "    if (i + 1)% 3 != 0:\n",
    "        nuevo_abc.append(abc[i])\n",
    "\n",
    "#Mostramos el abecedario nuevo y modificado.\n",
    "print(\"Nuevo Abc sin las letras que son multiplos de 3: \\n\", nuevo_abc)\n",
    "\n",
    "\n"
   ]
  },
  {
   "cell_type": "markdown",
   "id": "5bfeb4b5",
   "metadata": {},
   "source": [
    "### Actividad 7:\n",
    "\n",
    "Escribir un programa que pida al usuario una palabra y muestre por pantalla si es un palíndromo (una palabra que se escribe de la misma forma al derecho y al reves)."
   ]
  },
  {
   "cell_type": "code",
   "execution_count": 24,
   "id": "2365afcc",
   "metadata": {},
   "outputs": [
    {
     "name": "stdout",
     "output_type": "stream",
     "text": [
      "Su palabra no es un Palindromo.\n"
     ]
    }
   ],
   "source": [
    "\n",
    "# todo:\n",
    "# Pedimos al usuario que ingrese la palabra que desea verificar \n",
    "# para ver si es un palindromo.\n",
    "palindromo = input(\"Ingrese su palabra: \")\n",
    "\n",
    "if palindromo == palindromo [::-1]:\n",
    "    print(\"Su palabra es un Palindromo.\")\n",
    "else:\n",
    "    print(\"Su palabra no es un Palindromo.\")"
   ]
  },
  {
   "cell_type": "markdown",
   "id": "ed8b51be",
   "metadata": {},
   "source": [
    "### Actividad 8:\n",
    "\n",
    "Teniendo en cuenta el conjunto 1 y el conjunto 2, sin usar el operador de intersección &, calcular la intersección de dichos conjuntos."
   ]
  },
  {
   "cell_type": "code",
   "execution_count": null,
   "id": "21a434b9",
   "metadata": {},
   "outputs": [],
   "source": [
    "conjunto1 = {1, 2, 3, 4}\n",
    "conjunto2 = {3, 4, 5, 6}\n",
    "# todo:"
   ]
  },
  {
   "cell_type": "markdown",
   "id": "31b460dc",
   "metadata": {},
   "source": [
    "### Actividad 9:\n",
    "Eliminar duplicados de una lista usando un set."
   ]
  },
  {
   "cell_type": "code",
   "execution_count": 26,
   "id": "0ef62008",
   "metadata": {},
   "outputs": [
    {
     "name": "stdout",
     "output_type": "stream",
     "text": [
      " Lista Original:  [1, 2, 2, 3, 4, 4, 5]\n",
      "\n",
      " Lista sin Duplicados:  [1, 2, 3, 4, 5]\n"
     ]
    }
   ],
   "source": [
    "\n",
    "# todo:\n",
    "lista = [1, 2, 2, 3, 4, 4, 5]\n",
    "print(\" Lista Original: \", lista)\n",
    "# Utilizando el SET, elimina los duplicados de la lista, ya que no permite\n",
    "# que estos existan en una misma lista.\n",
    "lista_set = list(set(lista))\n",
    "#Mostramos la lista sin duplicados.\n",
    "print(\"\\n Lista sin Duplicados: \", lista_set)\n",
    "\n",
    "\n"
   ]
  },
  {
   "cell_type": "markdown",
   "id": "075f1f2c",
   "metadata": {},
   "source": [
    "### Actividad 10:\n",
    "\n",
    "Escribir un programa que cree 2 matrices y realice su multiplicacion."
   ]
  },
  {
   "cell_type": "code",
   "execution_count": null,
   "id": "4c1fd0e1",
   "metadata": {},
   "outputs": [],
   "source": [
    "\n",
    "# todo:"
   ]
  }
 ],
 "metadata": {
  "kernelspec": {
   "display_name": "Python 3",
   "language": "python",
   "name": "python3"
  },
  "language_info": {
   "codemirror_mode": {
    "name": "ipython",
    "version": 3
   },
   "file_extension": ".py",
   "mimetype": "text/x-python",
   "name": "python",
   "nbconvert_exporter": "python",
   "pygments_lexer": "ipython3",
   "version": "3.12.9"
  }
 },
 "nbformat": 4,
 "nbformat_minor": 5
}
